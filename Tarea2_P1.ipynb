{
  "cells": [
    {
      "cell_type": "code",
      "execution_count": 2,
      "metadata": {
        "colab": {
          "base_uri": "https://localhost:8080/"
        },
        "id": "hNaUrEnJ1fGB",
        "outputId": "1efeddf8-361e-40a2-d3d9-c555cb466db3"
      },
      "outputs": [
        {
          "name": "stdout",
          "output_type": "stream",
          "text": [
            "Collecting pyspark\n",
            "  Downloading pyspark-3.4.1.tar.gz (310.8 MB)\n",
            "\u001b[2K     \u001b[90m━━━━━━━━━━━━━━━━━━━━━━━━━━━━━━━━━━━━━━━\u001b[0m \u001b[32m310.8/310.8 MB\u001b[0m \u001b[31m2.3 MB/s\u001b[0m eta \u001b[36m0:00:00\u001b[0m\n",
            "\u001b[?25h  Preparing metadata (setup.py) ... \u001b[?25l\u001b[?25hdone\n",
            "Requirement already satisfied: py4j==0.10.9.7 in /usr/local/lib/python3.10/dist-packages (from pyspark) (0.10.9.7)\n",
            "Building wheels for collected packages: pyspark\n",
            "  Building wheel for pyspark (setup.py) ... \u001b[?25l\u001b[?25hdone\n",
            "  Created wheel for pyspark: filename=pyspark-3.4.1-py2.py3-none-any.whl size=311285398 sha256=ea20c04c864c516dda249d3b7b63f83bb8c00c3ac80a2e67d3e79ccfd52dd20d\n",
            "  Stored in directory: /root/.cache/pip/wheels/0d/77/a3/ff2f74cc9ab41f8f594dabf0579c2a7c6de920d584206e0834\n",
            "Successfully built pyspark\n",
            "Installing collected packages: pyspark\n",
            "Successfully installed pyspark-3.4.1\n"
          ]
        }
      ],
      "source": [
        "!pip install pyspark"
      ]
    },
    {
      "attachments": {},
      "cell_type": "markdown",
      "metadata": {
        "id": "OVsbq6aXe8OL"
      },
      "source": [
        "Problema 1 - Diego Rodriguez - Joaquín Cabello"
      ]
    },
    {
      "attachments": {},
      "cell_type": "markdown",
      "metadata": {
        "id": "nLb14Igu7E-t"
      },
      "source": [
        "1.1\n",
        "Problema 1. Programa el algoritmo de PageRank siguiendo la estrategia de arriba. En concreto, deberías seguir los siguientes pasos:\n",
        "\n",
        "1. Prepara un RDD que tenga cada nodo con su PageRank inicial. Luego, haz una función que prepare el mensaje que cada nodo va a enviar. Probablemente quieras almacenar estos valores como otro RDD.\n",
        "\n",
        "2. Escribe una función que se encargue del intercambio de mensajes entre nodos. Esta función envía los mensajes a los nodos correspondientes y se encarga del merge de los mensajes recibidos por cada nodo. Debe retornar un RDD que para cada nodo indique cuál es el mensaje final recibido.\n",
        "\n",
        "3. Haz una función que actualice el valor de PageRank para cada nodo considerando el damping factor. Probablemente quieras hacer una función que tome el output del punto anterior y lo procese.\n",
        "\n",
        "4. Itera los pasos correspondientes por un número máximo de iteraciones, o hasta que la diferencia entre dos iteraciones del valor de PageRank sea mínima.\n",
        "\n",
        "El programa debe retornar cada nodo junto con su valor final de PageRank."
      ]
    },
    {
      "cell_type": "code",
      "execution_count": 3,
      "metadata": {
        "id": "_T67OEyU7HAI"
      },
      "outputs": [],
      "source": [
        "from pyspark.sql import SparkSession"
      ]
    },
    {
      "cell_type": "code",
      "execution_count": 4,
      "metadata": {
        "colab": {
          "base_uri": "https://localhost:8080/",
          "height": 196
        },
        "id": "pwXQ9rP27kWZ",
        "outputId": "b171fac6-a906-477d-c04b-b12f1e2d48b9"
      },
      "outputs": [
        {
          "data": {
            "text/html": [
              "\n",
              "        <div>\n",
              "            <p><b>SparkContext</b></p>\n",
              "\n",
              "            <p><a href=\"http://66eed416c825:4040\">Spark UI</a></p>\n",
              "\n",
              "            <dl>\n",
              "              <dt>Version</dt>\n",
              "                <dd><code>v3.4.1</code></dd>\n",
              "              <dt>Master</dt>\n",
              "                <dd><code>local[*]</code></dd>\n",
              "              <dt>AppName</dt>\n",
              "                <dd><code>pyspark-shell</code></dd>\n",
              "            </dl>\n",
              "        </div>\n",
              "        "
            ],
            "text/plain": [
              "<SparkContext master=local[*] appName=pyspark-shell>"
            ]
          },
          "execution_count": 4,
          "metadata": {},
          "output_type": "execute_result"
        }
      ],
      "source": [
        "# Set-up la sesión\n",
        "spark = SparkSession.builder \\\n",
        "    .getOrCreate()\n",
        "\n",
        "sc = spark.sparkContext\n",
        "sc"
      ]
    },
    {
      "cell_type": "code",
      "execution_count": 4,
      "metadata": {
        "id": "7ZlJiZCJ8K9j"
      },
      "outputs": [],
      "source": [
        "nodes = [1, 2, 3, 4]\n",
        "edges = [(1, 2), (2, 3), (2, 4), (3, 2)]"
      ]
    },
    {
      "cell_type": "code",
      "execution_count": 5,
      "metadata": {
        "colab": {
          "base_uri": "https://localhost:8080/"
        },
        "id": "EPjyyh1k3bh8",
        "outputId": "a6bb88a2-db08-47d9-9dbb-e6fedc043a24"
      },
      "outputs": [
        {
          "name": "stdout",
          "output_type": "stream",
          "text": [
            "Nodos iniciales: [(1, 0.25), (2, 0.25), (3, 0.25), (4, 0.25)]\n",
            "Mensajes enviados por nodo: [((1, 2), 0.25), ((2, 3), 0.125), ((2, 4), 0.125), ((3, 2), 0.25)]\n",
            "Mensajes enviados por nodo: [((1, 2), 0.25), ((2, 3), 0.125), ((2, 4), 0.125), ((3, 2), 0.25)]\n"
          ]
        }
      ],
      "source": [
        "# Prepara un RDD que tenga cada nodo con su Page Rank inicial. Luego, haz una funci´on que prepare el\n",
        "# mensaje que cada nodo va a enviar. Pprobablemente quieras almacenar estos valores como otro RDD\n",
        "\n",
        "nodes_pagerank_RDD = sc.parallelize([(x, 1/len(nodes)) for x in nodes])\n",
        "print('Nodos iniciales:',nodes_pagerank_RDD.collect())\n",
        "\n",
        "def prep_mensaje(nodes_pagerank_RDD, edges, iter=None):\n",
        "  edg = sc.parallelize(edges)\n",
        "  num = edg.map(lambda x: (x[0], 1)).reduceByKey(lambda x,y: x+y) # Obtenemos la cantidad de mensajes enviados por nodo\n",
        "  edg_ = edg.join(num)\\\n",
        "  .map(lambda x: (x[0], ((x[0], x[1][0]), x[1][1]))).join(nodes_pagerank_RDD)\\\n",
        "                        .map(lambda x: (x[1][0][0], x[1][1]/x[1][0][1] )) # Vemos quien manda el mensaje y cuantos\\. Hacemos el calculo por mensaje\n",
        "\n",
        "  return edg_\n",
        "\n",
        "msg = prep_mensaje(nodes_pagerank_RDD, edges)\n",
        "print('Mensajes enviados por nodo:', msg.collect())\n",
        "msg = prep_mensaje(nodes_pagerank_RDD, edges)\n",
        "print('Mensajes enviados por nodo:', msg.collect())\n"
      ]
    },
    {
      "cell_type": "code",
      "execution_count": 6,
      "metadata": {
        "colab": {
          "base_uri": "https://localhost:8080/"
        },
        "id": "Nq2Lxg0-OqiN",
        "outputId": "348a08d5-334b-4654-d72f-85d286758f0e"
      },
      "outputs": [
        {
          "name": "stdout",
          "output_type": "stream",
          "text": [
            "Merge mensajes recibidos por nodo: [(2, 0.5), (3, 0.125), (4, 0.125)]\n"
          ]
        }
      ],
      "source": [
        "# Escribe una función que se encargue del intercambio de mensajes entre nodos.\n",
        "# Esta función envía los mensajes a los nodos correspondientes y se encarga del merge de los mensajes\n",
        "# recibidos por cada nodo. Debe retornar un RDD que para cada nodo indique cuál es el mensaje final recibido.\n",
        "\n",
        "def merge_received_msg(nodes, msg):\n",
        "  nodes = sc.parallelize(nodes)\n",
        "  received = msg.map(lambda x: (x[0][1], x[1])).reduceByKey(lambda x,y: x + y)\n",
        "\n",
        "  return received\n",
        "\n",
        "r_msg = merge_received_msg(nodes, msg)\n",
        "print('Merge mensajes recibidos por nodo:', r_msg.collect())"
      ]
    },
    {
      "cell_type": "code",
      "execution_count": 7,
      "metadata": {
        "colab": {
          "base_uri": "https://localhost:8080/"
        },
        "id": "p7Bi3w40ex9e",
        "outputId": "81f08fe4-0e3f-433d-f2f8-619312cce794"
      },
      "outputs": [
        {
          "name": "stdout",
          "output_type": "stream",
          "text": [
            "[(1, 0.037500000000000006), (2, 0.4625), (3, 0.14375), (4, 0.14375)]\n"
          ]
        }
      ],
      "source": [
        "# Haz una función que actualice el valor de PageRank para cada nodo considerando el damping factor.\n",
        "# Probablemente quieras hacer una función que tome el output del punto anterior y lo procese.\n",
        "\n",
        "def pagerank_node(d, nodes, r_msg):\n",
        "  nodes = sc.parallelize(nodes).map(lambda x: (x, 0))\n",
        "  pr = nodes.leftOuterJoin(r_msg).map(lambda x: (x[0], x[1][1] if x[1][1] != None else 0))\n",
        "  n = (1-d)/nodes.count()\n",
        "  pr = pr.map(lambda x: (x[0], (x[1] * d) + n ))\n",
        "  return pr\n",
        "\n",
        "d = 0.85\n",
        "pr = pagerank_node(d, nodes, r_msg)\n",
        "print(pr.collect())"
      ]
    },
    {
      "cell_type": "code",
      "execution_count": 176,
      "metadata": {
        "colab": {
          "base_uri": "https://localhost:8080/"
        },
        "id": "hUpuPpY4j-PD",
        "outputId": "ba1bb5e5-043a-4d70-9e8d-5cfe6199de78"
      },
      "outputs": [
        {
          "name": "stdout",
          "output_type": "stream",
          "text": [
            "Iteración 1\n",
            "Iteración 2\n",
            "Iteración 3\n",
            "Iteración 4\n",
            "Iteración 5\n",
            "Iteración 6\n",
            "Iteración 7\n",
            "Iteración 8\n",
            "Iteración 9\n",
            "Iteración 10\n"
          ]
        }
      ],
      "source": [
        "# Itera los pasos correspondientes por un n´umero m´aximo de iteraciones, o hasta que la diferencia entre\n",
        "# dos iteraciones del valor de Page Rank sea m´ınima.\n",
        "from math import sqrt\n",
        "\n",
        "\n",
        "def page_rank_inador(nodos, edges, d, nodes_RDD=None, iter=1,max_iter=-1, prevdiff=0):\n",
        "\n",
        "  if iter == 1:\n",
        "    nodes_RDD =  sc.parallelize([(x, 1/len(nodes)) for x in nodes])\n",
        "  else:\n",
        "    nodes_RDD =  nodes_RDD\n",
        "\n",
        "  print('Iteración', iter)\n",
        "  iter +=1\n",
        "\n",
        "  pr_n = pagerank_node(d, nodes, merge_received_msg(nodes, prep_mensaje(nodes_RDD, edges)))\n",
        "\n",
        "\n",
        "  diff_rdd = nodes_RDD.join(pr_n).map(lambda x: ('key', x[1][1] - x[1][0])).map(lambda x: ('key',pow(x[1],2))).reduceByKey(lambda x, y: x + y).map(lambda x: sqrt(x[1]))\n",
        "\n",
        "\n",
        "  # print(\"in->\",nodes_RDD.collect())\n",
        "  # print(\"out->\",pr_n.collect())\n",
        "  #print('Diff: ', diff_rdd.collect())\n",
        "\n",
        "  # if diff_rdd.filter(lambda x: x < 0.00069).count() > 0:\n",
        "  #   return pr_n\n",
        "\n",
        "  if not max_iter == 1:\n",
        "    max_iter-=1\n",
        "    return page_rank_inador(nodos, edges, d, nodes_RDD=pr_n,iter=iter ,max_iter=max_iter, prevdiff=0)\n",
        "\n",
        "  return pr_n\n",
        "\n",
        "d = 0.85\n",
        "pr_nodos = page_rank_inador(nodes, edges, d, max_iter=10)\n"
      ]
    },
    {
      "cell_type": "code",
      "execution_count": 177,
      "metadata": {
        "colab": {
          "base_uri": "https://localhost:8080/"
        },
        "id": "7snm8VFpxlEa",
        "outputId": "cb3bad7d-8f4e-484b-a081-fcc0011eb820"
      },
      "outputs": [
        {
          "data": {
            "text/plain": [
              "[(1, 0.037500000000000006),\n",
              " (2, 0.15907557964792862),\n",
              " (3, 0.10706817498735734),\n",
              " (4, 0.10706817498735734)]"
            ]
          },
          "execution_count": 177,
          "metadata": {},
          "output_type": "execute_result"
        }
      ],
      "source": [
        "pr_nodos.collect()"
      ]
    },
    {
      "attachments": {},
      "cell_type": "markdown",
      "metadata": {
        "id": "PH6u3tTDgYj4"
      },
      "source": [
        "La estrategia generalizada para el algortmo"
      ]
    },
    {
      "cell_type": "code",
      "execution_count": 31,
      "metadata": {
        "id": "ul_qQNi2Ygg3"
      },
      "outputs": [],
      "source": [
        "def page_rank_general(grafo, d, epsilon,nodos=None, edges=None, nodes_RDD=None, iter=1,max_iter=-1, num_nodos=None):\n",
        "\n",
        "  print('Iteracion', iter)\n",
        "  # -------- Preparación de los nodos ---------#\n",
        "  if iter == 1:\n",
        "    nodos_RDD_inicial = sc.parallelize([(x, 1/len(grafo.nodes)) for x in grafo.nodes])\n",
        "    nodos_RDD = sc.parallelize(grafo.nodes)\n",
        "    edges_RDD = sc.parallelize(grafo.edges)\n",
        "    num_nodos = nodos_RDD.count()\n",
        "  else:\n",
        "    nodos_RDD_inicial = nodos\n",
        "    nodos_RDD = nodes_RDD\n",
        "    edges_RDD = edges\n",
        "\n",
        "  # -------------------------------------------#\n",
        "  iter+= 1\n",
        "\n",
        "  # -------- Preparamos los mensajes-----------#\n",
        "  num = edges_RDD.map(lambda x: (x[0], 1)).reduceByKey(lambda x,y: x+y) # Obtenemos la cantidad de mensajes enviados por nodo\n",
        "  edg_ = edges_RDD.join(num)\\\n",
        "  .map(lambda x: (x[0], ((x[0], x[1][0]), x[1][1]))).join(nodos_RDD_inicial)\\\n",
        "                        .map(lambda x: (x[1][0][0], x[1][1]/x[1][0][1] )) # Vemos quien manda el mensaje y cuantos\\. Hacemos el calculo por mensaje\n",
        "  # -------------------------------------------#\n",
        "\n",
        "  # ----------- Merge de los mensajes ---------#\n",
        "  received = edg_.map(lambda x: (x[0][1], x[1])).reduceByKey(lambda x,y: x + y)\n",
        "  # -------------------------------------------#\n",
        "\n",
        "  # ----------- Actualización de Nodos --------#\n",
        "  nodos_vacio = nodos_RDD.map(lambda x: (x, 0))\n",
        "  pr = nodos_vacio.leftOuterJoin(received).map(lambda x: (x[0], x[1][1] if x[1][1] != None else 0))\n",
        "  n = (1-d)/num_nodos\n",
        "  pr = pr.map(lambda x: (x[0], (x[1] * d) + n ))\n",
        "  # -------------------------------------------#\n",
        "\n",
        "  # ----------- Condición de término ----------#\n",
        "  diff_rdd = nodos_RDD_inicial.join(pr).map(lambda x: ('key', x[1][1] - x[1][0])).map(lambda x: ('key',pow(x[1],2))).reduceByKey(lambda x, y: x + y).map(lambda x: sqrt(x[1]))\n",
        "  if diff_rdd.filter(lambda x: x < epsilon).count() == 1:\n",
        "    return pr\n",
        "\n",
        "  # ----------- Condición max iteraciónes -------#\n",
        "  if not max_iter == 1:\n",
        "    max_iter-=1\n",
        "    return page_rank_general(grafo, d, epsilon,nodos=pr, edges=edges_RDD, nodes_RDD=nodos_RDD, iter=iter,max_iter=max_iter, num_nodos=num_nodos)\n",
        "\n",
        "  return pr"
      ]
    },
    {
      "attachments": {},
      "cell_type": "markdown",
      "metadata": {
        "id": "qE5JpIEg7Fd1"
      },
      "source": [
        "Cargamos el Grafo de Cora, utilizamos el codigo para cargar la información del grafo del archivo \"12 - Actividad Evaluada Grafos.ipynb\"."
      ]
    },
    {
      "cell_type": "code",
      "execution_count": 24,
      "metadata": {
        "id": "rol6BJ-44bh1"
      },
      "outputs": [],
      "source": [
        "import pandas as pd\n",
        "import networkx as nx\n",
        "import numpy as np\n",
        "from math import sqrt\n"
      ]
    },
    {
      "cell_type": "code",
      "execution_count": 6,
      "metadata": {
        "id": "clcGUPPx33Az"
      },
      "outputs": [],
      "source": [
        "### Información de las aristas del grafo de cora\n",
        "\n",
        "cora_cites_path = '/content/drive/MyDrive/Universidad/Procesamiento de datos masivos/Actividades/12 - Actividad Evaluada Grafos/cora/cora/cora.cites'\n",
        "cora_content_path = '/content/drive/MyDrive/Universidad/Procesamiento de datos masivos/Actividades/12 - Actividad Evaluada Grafos/cora/cora/cora.content'\n",
        "\n",
        "### Información de las aristas del grafo de cora\n",
        "\n",
        "citas = pd.read_csv(cora_cites_path,sep=\"\\t\",\n",
        "    header=None,\n",
        "    names=[\"target\", \"source\"])\n",
        "\n",
        "### Metemos esto a networkx\n",
        "\n",
        "G = nx.from_pandas_edgelist(citas, source=\"source\", target=\"target\",create_using=nx.DiGraph())\n",
        "\n",
        "### Ahora levantamos la información de cada paper. Solo vamos a usar el \"subject\"\n",
        "\n",
        "### Información de los nodos de cora\n",
        "\n",
        "column_names = [\"paper_id\"] + [f\"word_{idx}\" for idx in range(1433)] + [\"subject\"]\n",
        "papers = pd.read_csv(\n",
        "    cora_content_path, sep=\"\\t\", names=column_names,\n",
        ")\n",
        "subjects = papers[[\"paper_id\",\"subject\"]]\n",
        "\n",
        "### Agregamos la información a nuestro grafo G de esta forma:\n",
        "\n",
        "subjects_dict = dict(zip(subjects['paper_id'], subjects['subject']))\n",
        "nx.set_node_attributes(G, subjects_dict, 'subject')"
      ]
    },
    {
      "attachments": {},
      "cell_type": "markdown",
      "metadata": {
        "id": "Lrkm34JN7frx"
      },
      "source": [
        "Hacemos la prueba con el grafo:"
      ]
    },
    {
      "cell_type": "code",
      "execution_count": 34,
      "metadata": {
        "colab": {
          "base_uri": "https://localhost:8080/"
        },
        "id": "4SxzP_B6Hrgg",
        "outputId": "7bdf6ae2-ca4d-4308-ae0d-c1dd66e2d541"
      },
      "outputs": [
        {
          "name": "stdout",
          "output_type": "stream",
          "text": [
            "Iteracion 1\n",
            "Iteracion 2\n",
            "Iteracion 3\n",
            "Iteracion 4\n",
            "Iteracion 5\n",
            "Iteracion 6\n",
            "Iteracion 7\n",
            "Iteracion 8\n",
            "Iteracion 9\n",
            "Iteracion 10\n",
            "El top 10 pagerank del grafo es:\n"
          ]
        },
        {
          "data": {
            "text/plain": [
              "[(15429, 0.01143136472116835),\n",
              " (35, 0.011229497231473954),\n",
              " (10177, 0.010936443783534672),\n",
              " (210871, 0.005358044814531468),\n",
              " (210872, 0.0044934464342326),\n",
              " (82920, 0.004004069686793562),\n",
              " (1365, 0.003583970434052023),\n",
              " (4584, 0.003560500448362012),\n",
              " (643221, 0.0032767621957340547),\n",
              " (887, 0.003275659826096156)]"
            ]
          },
          "execution_count": 34,
          "metadata": {},
          "output_type": "execute_result"
        }
      ],
      "source": [
        "G = G\n",
        "DAMPING_FACTOR = 0.85\n",
        "EPSILON =  0.00069\n",
        "MAX_ITERACIONES = 10\n",
        "\n",
        "pr_grafo = page_rank_general(G, DAMPING_FACTOR, EPSILON, max_iter=MAX_ITERACIONES)\n",
        "\n",
        "# PARA VISUALIZAR EL TOP 10\n",
        "top = 10\n",
        "print(f'El top {top} pagerank del grafo es:')\n",
        "pr_grafo.top(top, key=lambda x: x[1])"
      ]
    },
    {
      "attachments": {},
      "cell_type": "markdown",
      "metadata": {
        "id": "KO-oD9hH6Cy_"
      },
      "source": [
        "La prueba del algoritmo con el ejemplo del PDF:"
      ]
    },
    {
      "cell_type": "code",
      "execution_count": 35,
      "metadata": {
        "id": "bdEhsjV9bb2E"
      },
      "outputs": [],
      "source": [
        "nodes = [1, 2, 3, 4]\n",
        "edges = [(1, 2), (2, 3), (2, 4), (3, 2)]\n",
        "\n",
        "G_0 = nx.DiGraph()\n",
        "G_0.add_nodes_from(nodes)\n",
        "G_0.add_edges_from(edges)\n"
      ]
    },
    {
      "cell_type": "code",
      "execution_count": 36,
      "metadata": {
        "colab": {
          "base_uri": "https://localhost:8080/"
        },
        "id": "EKijjgvZbwwW",
        "outputId": "5e13b609-94ff-4472-cc4f-f4c9f237a00d"
      },
      "outputs": [
        {
          "name": "stdout",
          "output_type": "stream",
          "text": [
            "Iteracion 1\n",
            "Iteracion 2\n",
            "Iteracion 3\n",
            "Iteracion 4\n",
            "Iteracion 5\n",
            "Iteracion 6\n",
            "Iteracion 7\n",
            "Iteracion 8\n",
            "Iteracion 9\n",
            "Iteracion 10\n",
            "El top 10 pagerank del grafo es:\n"
          ]
        },
        {
          "data": {
            "text/plain": [
              "[(2, 0.15907557964792862),\n",
              " (3, 0.10706817498735734),\n",
              " (4, 0.10706817498735734),\n",
              " (1, 0.037500000000000006)]"
            ]
          },
          "execution_count": 36,
          "metadata": {},
          "output_type": "execute_result"
        }
      ],
      "source": [
        "DAMPING_FACTOR = 0.85\n",
        "EPSILON =  0.00069\n",
        "MAX_ITERACIONES = 10\n",
        "pr_grafo_0 = page_rank_general(G_0, DAMPING_FACTOR, EPSILON, max_iter=MAX_ITERACIONES)\n",
        "\n",
        "# PARA VISUALIZAR EL TOP 10\n",
        "top = 10\n",
        "print(f'El top {top} pagerank del grafo es:')\n",
        "pr_grafo_0.top(top, key=lambda x: x[1])"
      ]
    }
  ],
  "metadata": {
    "colab": {
      "provenance": []
    },
    "kernelspec": {
      "display_name": "Python 3",
      "name": "python3"
    },
    "language_info": {
      "name": "python"
    }
  },
  "nbformat": 4,
  "nbformat_minor": 0
}
